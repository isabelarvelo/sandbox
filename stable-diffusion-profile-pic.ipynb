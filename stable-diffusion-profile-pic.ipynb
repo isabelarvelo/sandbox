{
  "nbformat": 4,
  "nbformat_minor": 0,
  "metadata": {
    "colab": {
      "provenance": [],
      "private_outputs": true,
      "gpuType": "T4",
      "include_colab_link": true
    },
    "kernelspec": {
      "name": "python3",
      "display_name": "Python 3"
    },
    "language_info": {
      "name": "python"
    },
    "accelerator": "GPU"
  },
  "cells": [
    {
      "cell_type": "markdown",
      "metadata": {
        "id": "view-in-github",
        "colab_type": "text"
      },
      "source": [
        "<a href=\"https://colab.research.google.com/github/isabelarvelo/sandbox/blob/main/stable-diffusion-profile-pic.ipynb\" target=\"_parent\"><img src=\"https://colab.research.google.com/assets/colab-badge.svg\" alt=\"Open In Colab\"/></a>"
      ]
    },
    {
      "cell_type": "markdown",
      "source": [
        "#Computer Profile Picture"
      ],
      "metadata": {
        "id": "Bu2zIWDjtIo2"
      }
    },
    {
      "cell_type": "markdown",
      "source": [
        "Using learning from 'Exploring Generative AI with Keras' lead by Divyashree Sreepathihalli and Chen Qian to generate a profile picture for my User account on my personal device with computer vision.\n"
      ],
      "metadata": {
        "id": "7RLOSi3YkfnZ"
      }
    },
    {
      "cell_type": "markdown",
      "source": [
        "#Setup"
      ],
      "metadata": {
        "id": "_JB_TLRmke8-"
      }
    },
    {
      "cell_type": "code",
      "execution_count": null,
      "metadata": {
        "id": "kW0BrKoonBOG"
      },
      "outputs": [],
      "source": [
        "!pip install -q git+https://github.com/keras-team/keras-cv.git\n",
        "!pip install keras-core"
      ]
    },
    {
      "cell_type": "code",
      "source": [
        "import time\n",
        "import keras_cv\n",
        "from keras_cv.backend import keras\n",
        "from keras_cv.backend import ops\n",
        "import matplotlib.pyplot as plt\n",
        "from PIL import Image\n",
        "from IPython.display import Image as IImage"
      ],
      "metadata": {
        "id": "rpnC3KIHs4Hd"
      },
      "execution_count": null,
      "outputs": []
    },
    {
      "cell_type": "code",
      "source": [
        "%env KERAS_BACKEND=tensorflow"
      ],
      "metadata": {
        "id": "uEw8cppH9uxG"
      },
      "execution_count": null,
      "outputs": []
    },
    {
      "cell_type": "markdown",
      "source": [
        "#Utility Functions"
      ],
      "metadata": {
        "id": "w95tNiAqtL0U"
      }
    },
    {
      "cell_type": "code",
      "source": [
        "def plot_images(images):\n",
        "    plt.figure(figsize=(20, 20))\n",
        "    for i in range(len(images)):\n",
        "        ax = plt.subplot(1, len(images), i + 1)\n",
        "        plt.imshow(images[i])\n",
        "        plt.axis(\"off\")\n"
      ],
      "metadata": {
        "id": "YBiao9MUtEtA"
      },
      "execution_count": null,
      "outputs": []
    },
    {
      "cell_type": "markdown",
      "source": [
        "#Stable Diffusion model"
      ],
      "metadata": {
        "id": "I9xCzEuQxFrU"
      }
    },
    {
      "cell_type": "code",
      "source": [
        "model = keras_cv.models.StableDiffusion(img_width=512, img_height=512)"
      ],
      "metadata": {
        "id": "M-16pgb1s9Dd"
      },
      "execution_count": null,
      "outputs": []
    },
    {
      "cell_type": "markdown",
      "source": [
        "Try out a more complex prompt"
      ],
      "metadata": {
        "id": "rkCvedDsyFh0"
      }
    },
    {
      "cell_type": "code",
      "source": [
        "images = model.text_to_image(\n",
        "    \"Cartoon animation of an adorable panda with big eyes drinking matcha\",\n",
        "    batch_size=3,\n",
        ")\n",
        "plot_images(images)"
      ],
      "metadata": {
        "id": "O0I4Sumiwot-"
      },
      "execution_count": null,
      "outputs": []
    },
    {
      "cell_type": "markdown",
      "source": [
        "#Improve performance of the model"
      ],
      "metadata": {
        "id": "_WKuB8LXxJs0"
      }
    },
    {
      "cell_type": "markdown",
      "source": [
        "##Standard model"
      ],
      "metadata": {
        "id": "4aNjLha-xZsr"
      }
    },
    {
      "cell_type": "code",
      "source": [
        "start = time.time()\n",
        "images = model.text_to_image(\n",
        "    \"Cartoon animation of an adorable panda with big eyes drinking match, watercolor\",\n",
        "    batch_size=3,\n",
        ")\n",
        "end = time.time()\n",
        "plot_images(images)\n",
        "\n",
        "print(f\"Standard model: {(end - start):.2f} seconds\")\n",
        "keras.backend.clear_session()  # Clear session to preserve memory."
      ],
      "metadata": {
        "id": "UU7c9TR6xUsL"
      },
      "execution_count": null,
      "outputs": []
    },
    {
      "cell_type": "markdown",
      "source": [
        "## With Mixed precision"
      ],
      "metadata": {
        "id": "hOjNxef6xdlg"
      }
    },
    {
      "cell_type": "code",
      "source": [
        "keras.mixed_precision.set_global_policy(\"mixed_float16\")"
      ],
      "metadata": {
        "id": "HX4xln_mxhYv"
      },
      "execution_count": null,
      "outputs": []
    },
    {
      "cell_type": "code",
      "source": [
        "# Warm up model to run graph tracing before benchmarking.\n",
        "model.text_to_image(\"warming up the model\", batch_size=3)"
      ],
      "metadata": {
        "id": "xerpw69ryoBp"
      },
      "execution_count": null,
      "outputs": []
    },
    {
      "cell_type": "markdown",
      "source": [
        "Try and check out the performance for yourself after enabeling mixed precision"
      ],
      "metadata": {
        "id": "aytsZDgKyo42"
      }
    },
    {
      "cell_type": "code",
      "source": [
        "images = model.text_to_image(\n",
        "    \"Cartoon animation of an adorable panda with big eyes drinking match, watercolor\",\n",
        "    batch_size=3,\n",
        ")\n",
        "plot_images(images)"
      ],
      "metadata": {
        "id": "ZMa3pglYy0sr"
      },
      "execution_count": null,
      "outputs": []
    }
  ]
}