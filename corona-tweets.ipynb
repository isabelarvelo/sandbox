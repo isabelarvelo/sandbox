{
 "cells": [
  {
   "cell_type": "markdown",
   "metadata": {},
   "source": [
    "## Corona Virus NLP Tweets"
   ]
  },
  {
   "cell_type": "markdown",
   "metadata": {},
   "source": [
    "Data set from https://www.kaggle.com/datasets/datatattle/covid-19-nlp-text-classification"
   ]
  },
  {
   "cell_type": "markdown",
   "metadata": {},
   "source": [
    "Following along and building on the NLP workshop at GHC '23 Conference led by Dr. Nimrita Koul, Associate Professor, Machine Learning, Bangalore, India"
   ]
  },
  {
   "cell_type": "code",
   "execution_count": 2,
   "metadata": {},
   "outputs": [
    {
     "data": {
      "text/html": [
       "<div>\n",
       "<style scoped>\n",
       "    .dataframe tbody tr th:only-of-type {\n",
       "        vertical-align: middle;\n",
       "    }\n",
       "\n",
       "    .dataframe tbody tr th {\n",
       "        vertical-align: top;\n",
       "    }\n",
       "\n",
       "    .dataframe thead th {\n",
       "        text-align: right;\n",
       "    }\n",
       "</style>\n",
       "<table border=\"1\" class=\"dataframe\">\n",
       "  <thead>\n",
       "    <tr style=\"text-align: right;\">\n",
       "      <th></th>\n",
       "      <th>UserName</th>\n",
       "      <th>ScreenName</th>\n",
       "      <th>Location</th>\n",
       "      <th>TweetAt</th>\n",
       "      <th>OriginalTweet</th>\n",
       "      <th>Sentiment</th>\n",
       "    </tr>\n",
       "  </thead>\n",
       "  <tbody>\n",
       "    <tr>\n",
       "      <th>0</th>\n",
       "      <td>3799</td>\n",
       "      <td>48751</td>\n",
       "      <td>London</td>\n",
       "      <td>16-03-2020</td>\n",
       "      <td>@MeNyrbie @Phil_Gahan @Chrisitv https://t.co/i...</td>\n",
       "      <td>Neutral</td>\n",
       "    </tr>\n",
       "    <tr>\n",
       "      <th>1</th>\n",
       "      <td>3800</td>\n",
       "      <td>48752</td>\n",
       "      <td>UK</td>\n",
       "      <td>16-03-2020</td>\n",
       "      <td>advice Talk to your neighbours family to excha...</td>\n",
       "      <td>Positive</td>\n",
       "    </tr>\n",
       "    <tr>\n",
       "      <th>2</th>\n",
       "      <td>3801</td>\n",
       "      <td>48753</td>\n",
       "      <td>Vagabonds</td>\n",
       "      <td>16-03-2020</td>\n",
       "      <td>Coronavirus Australia: Woolworths to give elde...</td>\n",
       "      <td>Positive</td>\n",
       "    </tr>\n",
       "    <tr>\n",
       "      <th>3</th>\n",
       "      <td>3802</td>\n",
       "      <td>48754</td>\n",
       "      <td>NaN</td>\n",
       "      <td>16-03-2020</td>\n",
       "      <td>My food stock is not the only one which is emp...</td>\n",
       "      <td>Positive</td>\n",
       "    </tr>\n",
       "    <tr>\n",
       "      <th>4</th>\n",
       "      <td>3803</td>\n",
       "      <td>48755</td>\n",
       "      <td>NaN</td>\n",
       "      <td>16-03-2020</td>\n",
       "      <td>Me, ready to go at supermarket during the #COV...</td>\n",
       "      <td>Extremely Negative</td>\n",
       "    </tr>\n",
       "  </tbody>\n",
       "</table>\n",
       "</div>"
      ],
      "text/plain": [
       "   UserName  ScreenName   Location     TweetAt  \\\n",
       "0      3799       48751     London  16-03-2020   \n",
       "1      3800       48752         UK  16-03-2020   \n",
       "2      3801       48753  Vagabonds  16-03-2020   \n",
       "3      3802       48754        NaN  16-03-2020   \n",
       "4      3803       48755        NaN  16-03-2020   \n",
       "\n",
       "                                       OriginalTweet           Sentiment  \n",
       "0  @MeNyrbie @Phil_Gahan @Chrisitv https://t.co/i...             Neutral  \n",
       "1  advice Talk to your neighbours family to excha...            Positive  \n",
       "2  Coronavirus Australia: Woolworths to give elde...            Positive  \n",
       "3  My food stock is not the only one which is emp...            Positive  \n",
       "4  Me, ready to go at supermarket during the #COV...  Extremely Negative  "
      ]
     },
     "execution_count": 2,
     "metadata": {},
     "output_type": "execute_result"
    }
   ],
   "source": [
    "import pandas as pd\n",
    "df = pd.read_csv('Corona_NLP_train.csv',  encoding='latin-1') #using encoding = \"latin-1\" as the dataset has some non-ASCII characters\n",
    "df.head()"
   ]
  },
  {
   "cell_type": "markdown",
   "metadata": {},
   "source": [
    "To get an initial understanding of our data, we utilize the describe() method. This gives us a statistical summary of numeric columns, helping in identifying any potential outliers or patterns at first glance."
   ]
  },
  {
   "cell_type": "code",
   "execution_count": 31,
   "metadata": {},
   "outputs": [
    {
     "data": {
      "text/html": [
       "<div>\n",
       "<style scoped>\n",
       "    .dataframe tbody tr th:only-of-type {\n",
       "        vertical-align: middle;\n",
       "    }\n",
       "\n",
       "    .dataframe tbody tr th {\n",
       "        vertical-align: top;\n",
       "    }\n",
       "\n",
       "    .dataframe thead th {\n",
       "        text-align: right;\n",
       "    }\n",
       "</style>\n",
       "<table border=\"1\" class=\"dataframe\">\n",
       "  <thead>\n",
       "    <tr style=\"text-align: right;\">\n",
       "      <th></th>\n",
       "      <th>word_count</th>\n",
       "    </tr>\n",
       "  </thead>\n",
       "  <tbody>\n",
       "    <tr>\n",
       "      <th>count</th>\n",
       "      <td>41140.000000</td>\n",
       "    </tr>\n",
       "    <tr>\n",
       "      <th>mean</th>\n",
       "      <td>16.594895</td>\n",
       "    </tr>\n",
       "    <tr>\n",
       "      <th>std</th>\n",
       "      <td>7.160664</td>\n",
       "    </tr>\n",
       "    <tr>\n",
       "      <th>min</th>\n",
       "      <td>1.000000</td>\n",
       "    </tr>\n",
       "    <tr>\n",
       "      <th>25%</th>\n",
       "      <td>11.000000</td>\n",
       "    </tr>\n",
       "    <tr>\n",
       "      <th>50%</th>\n",
       "      <td>17.000000</td>\n",
       "    </tr>\n",
       "    <tr>\n",
       "      <th>75%</th>\n",
       "      <td>22.000000</td>\n",
       "    </tr>\n",
       "    <tr>\n",
       "      <th>max</th>\n",
       "      <td>56.000000</td>\n",
       "    </tr>\n",
       "  </tbody>\n",
       "</table>\n",
       "</div>"
      ],
      "text/plain": [
       "         word_count\n",
       "count  41140.000000\n",
       "mean      16.594895\n",
       "std        7.160664\n",
       "min        1.000000\n",
       "25%       11.000000\n",
       "50%       17.000000\n",
       "75%       22.000000\n",
       "max       56.000000"
      ]
     },
     "execution_count": 31,
     "metadata": {},
     "output_type": "execute_result"
    }
   ],
   "source": [
    "df.describe()"
   ]
  },
  {
   "cell_type": "markdown",
   "metadata": {},
   "source": [
    "This dataset is a corpus of 41,140 tweets pulled from Twitter that have been manually tagged. The unit of analysis is a tweet and each column corresponds to relevant details about the tweet, including its sentiment. To streamline our analysis, we've decided to drop columns that might not directly contribute to our primary goal of sentiment analysis. This step simplifies our dataset and allows us to focus on the core features, namely, the tweet content and its sentiment."
   ]
  },
  {
   "cell_type": "code",
   "execution_count": 3,
   "metadata": {},
   "outputs": [
    {
     "data": {
      "text/plain": [
       "Index(['OriginalTweet', 'Sentiment'], dtype='object')"
      ]
     },
     "execution_count": 3,
     "metadata": {},
     "output_type": "execute_result"
    }
   ],
   "source": [
    "df = df.drop(['UserName', 'ScreenName', 'Location', 'TweetAt'], axis = 1)\n",
    "df.columns"
   ]
  },
  {
   "cell_type": "code",
   "execution_count": 4,
   "metadata": {},
   "outputs": [
    {
     "data": {
      "text/plain": [
       "OriginalTweet    0\n",
       "Sentiment        0\n",
       "dtype: int64"
      ]
     },
     "execution_count": 4,
     "metadata": {},
     "output_type": "execute_result"
    }
   ],
   "source": [
    "df.isna().sum()"
   ]
  },
  {
   "cell_type": "code",
   "execution_count": 5,
   "metadata": {},
   "outputs": [
    {
     "data": {
      "text/plain": [
       "array(['Neutral', 'Positive', 'Extremely Negative', 'Negative',\n",
       "       'Extremely Positive'], dtype=object)"
      ]
     },
     "execution_count": 5,
     "metadata": {},
     "output_type": "execute_result"
    }
   ],
   "source": [
    "df['Sentiment'].unique()"
   ]
  },
  {
   "cell_type": "markdown",
   "metadata": {},
   "source": [
    "Understanding the unique sentiment labels in our dataset is pivotal. This gives us insight into the range of sentiments expressed in the tweets and helps set the stage for our sentiment analysis task. It's essential to know whether we are dealing with binary sentiments (e.g., Positive/Negative) or a broader range."
   ]
  },
  {
   "cell_type": "code",
   "execution_count": 6,
   "metadata": {},
   "outputs": [
    {
     "data": {
      "text/plain": [
       "Positive              11422\n",
       "Negative               9917\n",
       "Neutral                7713\n",
       "Extremely Positive     6624\n",
       "Extremely Negative     5481\n",
       "Name: Sentiment, dtype: int64"
      ]
     },
     "execution_count": 6,
     "metadata": {},
     "output_type": "execute_result"
    }
   ],
   "source": [
    "df['Sentiment'].value_counts()"
   ]
  },
  {
   "cell_type": "markdown",
   "metadata": {},
   "source": [
    "Getting a distribution of sentiment labels is important. This helps us understand the balance (or imbalance) of sentiments in our dataset. A highly imbalanced dataset might require special techniques during model training to ensure that minority sentiments are adequately represented."
   ]
  },
  {
   "cell_type": "markdown",
   "metadata": {},
   "source": [
    "### Data Cleaning and pre-processing"
   ]
  },
  {
   "cell_type": "markdown",
   "metadata": {},
   "source": [
    "Normalizing the tweet content by converting it to lowercase ensures that our analysis is case-insensitive. This step aids in ensuring that words like 'COVID', 'covid', and 'Covid' are treated the same, eliminating potential discrepancies due to varied capitalization. Removing stopwords and punctuation is a standard practice in text preprocessing. Stopwords, being common across most documents, don't offer much value in distinguishing sentiments. Similarly, punctuation might not contribute significantly to sentiment analysis in most cases. By removing these, we can focus on the core words that drive sentiment.\n",
    "\n",
    "Mentions and hashtags, though integral to the Twitter ecosystem, may not necessarily contribute to the sentiment of a tweet. Removing them ensures that our sentiment analysis focuses on the core content of the tweet. However, it's worth noting that in certain contexts, analyzing hashtags separately might provide additional insights into trending topics or sentiments.\n",
    "\n",
    "Emojis, while expressive, introduce complexity when processing text data. Their interpretation can be subjective and might vary across cultures. While they can be valuable for sentiment analysis, we've chosen to remove them in this analysis. For a more nuanced approach, one could consider dedicated emoji sentiment lexicons or specialized models that handle emojis.\n",
    "\n",
    "Focusing on ASCII characters streamlines our analysis, especially if our primary audience or dataset is English-centric. However, this step might not be suitable for multilingual datasets or analyses targeting specific non-English languages"
   ]
  },
  {
   "cell_type": "code",
   "execution_count": 7,
   "metadata": {},
   "outputs": [
    {
     "data": {
      "text/html": [
       "<div>\n",
       "<style scoped>\n",
       "    .dataframe tbody tr th:only-of-type {\n",
       "        vertical-align: middle;\n",
       "    }\n",
       "\n",
       "    .dataframe tbody tr th {\n",
       "        vertical-align: top;\n",
       "    }\n",
       "\n",
       "    .dataframe thead th {\n",
       "        text-align: right;\n",
       "    }\n",
       "</style>\n",
       "<table border=\"1\" class=\"dataframe\">\n",
       "  <thead>\n",
       "    <tr style=\"text-align: right;\">\n",
       "      <th></th>\n",
       "      <th>OriginalTweet</th>\n",
       "      <th>Sentiment</th>\n",
       "    </tr>\n",
       "  </thead>\n",
       "  <tbody>\n",
       "    <tr>\n",
       "      <th>0</th>\n",
       "      <td>@menyrbie @phil_gahan @chrisitv https://t.co/i...</td>\n",
       "      <td>Neutral</td>\n",
       "    </tr>\n",
       "    <tr>\n",
       "      <th>1</th>\n",
       "      <td>advice talk to your neighbours family to excha...</td>\n",
       "      <td>Positive</td>\n",
       "    </tr>\n",
       "    <tr>\n",
       "      <th>2</th>\n",
       "      <td>coronavirus australia: woolworths to give elde...</td>\n",
       "      <td>Positive</td>\n",
       "    </tr>\n",
       "    <tr>\n",
       "      <th>3</th>\n",
       "      <td>my food stock is not the only one which is emp...</td>\n",
       "      <td>Positive</td>\n",
       "    </tr>\n",
       "    <tr>\n",
       "      <th>4</th>\n",
       "      <td>me, ready to go at supermarket during the #cov...</td>\n",
       "      <td>Extremely Negative</td>\n",
       "    </tr>\n",
       "  </tbody>\n",
       "</table>\n",
       "</div>"
      ],
      "text/plain": [
       "                                       OriginalTweet           Sentiment\n",
       "0  @menyrbie @phil_gahan @chrisitv https://t.co/i...             Neutral\n",
       "1  advice talk to your neighbours family to excha...            Positive\n",
       "2  coronavirus australia: woolworths to give elde...            Positive\n",
       "3  my food stock is not the only one which is emp...            Positive\n",
       "4  me, ready to go at supermarket during the #cov...  Extremely Negative"
      ]
     },
     "execution_count": 7,
     "metadata": {},
     "output_type": "execute_result"
    }
   ],
   "source": [
    "df['OriginalTweet'] = df['OriginalTweet'].str.lower()\n",
    "df.head()"
   ]
  },
  {
   "cell_type": "code",
   "execution_count": 8,
   "metadata": {},
   "outputs": [
    {
     "data": {
      "text/plain": [
       "0        @menyrbie @phil_gahan @chrisitv https://t.co/i...\n",
       "1        advice talk neighbours family exchange phone n...\n",
       "2        coronavirus australia: woolworths give elderly...\n",
       "3        food stock one empty... please, panic, enough ...\n",
       "4        me, ready go supermarket #covid19 outbreak. i'...\n",
       "                               ...                        \n",
       "41152    airline pilots offering stock supermarket shel...\n",
       "41153    response complaint provided citing covid-19 re...\n",
       "41154    know itâs getting tough @kameronwilds rationi...\n",
       "41155    wrong smell hand sanitizer starting turn on? #...\n",
       "41156    @tartiicat well new/used rift going $700.00 am...\n",
       "Name: OriginalTweet, Length: 41157, dtype: object"
      ]
     },
     "execution_count": 8,
     "metadata": {},
     "output_type": "execute_result"
    }
   ],
   "source": [
    "import nltk\n",
    "import string\n",
    "from nltk.corpus import stopwords\n",
    "stop_words = stopwords.words('english')\n",
    "stopwordsandpunct = stop_words + list(string.punctuation)\n",
    "\n",
    "df['OriginalTweet'] = df['OriginalTweet'].apply(lambda w:' '.join(w for w in w.split() if w not in stopwordsandpunct))\n",
    "df['OriginalTweet']"
   ]
  },
  {
   "cell_type": "code",
   "execution_count": 9,
   "metadata": {},
   "outputs": [
    {
     "data": {
      "text/plain": [
       "0                   @menyrbie @phil_gahan @chrisitv   \n",
       "1    advice talk neighbours family exchange phone n...\n",
       "2    coronavirus australia: woolworths give elderly...\n",
       "3    food stock one empty... please, panic, enough ...\n",
       "4    me, ready go supermarket #covid19 outbreak. i'...\n",
       "Name: OriginalTweet, dtype: object"
      ]
     },
     "execution_count": 9,
     "metadata": {},
     "output_type": "execute_result"
    }
   ],
   "source": [
    "# Remove URLs from all the tweets\n",
    "import re\n",
    "def remove_url(tweet):\n",
    "    tweet = re.sub(r'\\w+:\\/{2}[\\d\\w-]+(\\.[\\d\\w-]+)*(?:(?:\\/[^\\s/]*))*', '', tweet)\n",
    "    return tweet\n",
    "\n",
    "df['OriginalTweet'] = df['OriginalTweet'].apply(remove_url)\n",
    "df['OriginalTweet'].head()"
   ]
  },
  {
   "cell_type": "code",
   "execution_count": 10,
   "metadata": {},
   "outputs": [
    {
     "data": {
      "text/plain": [
       "0                                                     \n",
       "1    advice talk neighbours family exchange phone n...\n",
       "2    coronavirus australia: woolworths give elderly...\n",
       "3    food stock one empty... please, panic, enough ...\n",
       "4    me, ready go supermarket  outbreak. i'm parano...\n",
       "Name: OriginalTweet, dtype: object"
      ]
     },
     "execution_count": 10,
     "metadata": {},
     "output_type": "execute_result"
    }
   ],
   "source": [
    "# remove mentions and hashtags\n",
    "def remove_mentions_hashs(tweet):\n",
    "    tweet = re.sub(\"@[A-Za-z0-9_]+\",\"\", tweet) #Remove mentions\n",
    "    tweet = re.sub(\"#[A-Za-z0-9_]+\",\"\", tweet) #Remove hashtags\n",
    "    return tweet\n",
    "\n",
    "df['OriginalTweet'] = df['OriginalTweet'].apply(remove_mentions_hashs)\n",
    "df['OriginalTweet'].head()"
   ]
  },
  {
   "cell_type": "code",
   "execution_count": 11,
   "metadata": {},
   "outputs": [
    {
     "data": {
      "text/html": [
       "<div>\n",
       "<style scoped>\n",
       "    .dataframe tbody tr th:only-of-type {\n",
       "        vertical-align: middle;\n",
       "    }\n",
       "\n",
       "    .dataframe tbody tr th {\n",
       "        vertical-align: top;\n",
       "    }\n",
       "\n",
       "    .dataframe thead th {\n",
       "        text-align: right;\n",
       "    }\n",
       "</style>\n",
       "<table border=\"1\" class=\"dataframe\">\n",
       "  <thead>\n",
       "    <tr style=\"text-align: right;\">\n",
       "      <th></th>\n",
       "      <th>OriginalTweet</th>\n",
       "      <th>Sentiment</th>\n",
       "    </tr>\n",
       "  </thead>\n",
       "  <tbody>\n",
       "    <tr>\n",
       "      <th>0</th>\n",
       "      <td></td>\n",
       "      <td>Neutral</td>\n",
       "    </tr>\n",
       "    <tr>\n",
       "      <th>1</th>\n",
       "      <td>advice talk neighbours family exchange phone n...</td>\n",
       "      <td>Positive</td>\n",
       "    </tr>\n",
       "    <tr>\n",
       "      <th>2</th>\n",
       "      <td>coronavirus australia: woolworths give elderly...</td>\n",
       "      <td>Positive</td>\n",
       "    </tr>\n",
       "    <tr>\n",
       "      <th>3</th>\n",
       "      <td>food stock one empty... please, panic, enough ...</td>\n",
       "      <td>Positive</td>\n",
       "    </tr>\n",
       "    <tr>\n",
       "      <th>4</th>\n",
       "      <td>me, ready go supermarket  outbreak. i'm parano...</td>\n",
       "      <td>Extremely Negative</td>\n",
       "    </tr>\n",
       "  </tbody>\n",
       "</table>\n",
       "</div>"
      ],
      "text/plain": [
       "                                       OriginalTweet           Sentiment\n",
       "0                                                                Neutral\n",
       "1  advice talk neighbours family exchange phone n...            Positive\n",
       "2  coronavirus australia: woolworths give elderly...            Positive\n",
       "3  food stock one empty... please, panic, enough ...            Positive\n",
       "4  me, ready go supermarket  outbreak. i'm parano...  Extremely Negative"
      ]
     },
     "execution_count": 11,
     "metadata": {},
     "output_type": "execute_result"
    }
   ],
   "source": [
    "import re\n",
    "def remove_emojis(tweet):\n",
    "    pat =      re.compile(\"[\"\n",
    "                           u\"\\U0001F600-\\U0001F64F\"  # emoticons\n",
    "                           u\"\\U0001F300-\\U0001F5FF\"  # symbols & pictographs\n",
    "                           u\"\\U0001F680-\\U0001F6FF\"  # transport & map symbols\n",
    "                           u\"\\U0001F1E0-\\U0001F1FF\"  # flags (iOS)\n",
    "                           u\"\\U00002702-\\U000027B0\"\n",
    "                           u\"\\U000024C2-\\U0001F251\"\n",
    "                           \"]+\", flags=re.UNICODE)\n",
    "    return pat.sub(r'', tweet)\n",
    "\n",
    "df['OriginalTweet'] = df['OriginalTweet'].apply(remove_emojis)\n",
    "df.head()"
   ]
  },
  {
   "cell_type": "code",
   "execution_count": 12,
   "metadata": {},
   "outputs": [],
   "source": [
    "import string\n",
    "def remove_empty_strings1(tweet):\n",
    "    tweet = re.sub(r\"^\\s+|\\s+$\", 'NaN', tweet)\n",
    "    return tweet\n",
    "df['OriginalTweet'] = df['OriginalTweet'].apply(remove_empty_strings1)"
   ]
  },
  {
   "cell_type": "code",
   "execution_count": 13,
   "metadata": {},
   "outputs": [
    {
     "data": {
      "text/html": [
       "<div>\n",
       "<style scoped>\n",
       "    .dataframe tbody tr th:only-of-type {\n",
       "        vertical-align: middle;\n",
       "    }\n",
       "\n",
       "    .dataframe tbody tr th {\n",
       "        vertical-align: top;\n",
       "    }\n",
       "\n",
       "    .dataframe thead th {\n",
       "        text-align: right;\n",
       "    }\n",
       "</style>\n",
       "<table border=\"1\" class=\"dataframe\">\n",
       "  <thead>\n",
       "    <tr style=\"text-align: right;\">\n",
       "      <th></th>\n",
       "      <th>OriginalTweet</th>\n",
       "      <th>Sentiment</th>\n",
       "    </tr>\n",
       "  </thead>\n",
       "  <tbody>\n",
       "    <tr>\n",
       "      <th>0</th>\n",
       "      <td>NaN</td>\n",
       "      <td>Neutral</td>\n",
       "    </tr>\n",
       "    <tr>\n",
       "      <th>1</th>\n",
       "      <td>advice talk neighbours family exchange phone n...</td>\n",
       "      <td>Positive</td>\n",
       "    </tr>\n",
       "    <tr>\n",
       "      <th>2</th>\n",
       "      <td>coronavirus australia: woolworths give elderly...</td>\n",
       "      <td>Positive</td>\n",
       "    </tr>\n",
       "    <tr>\n",
       "      <th>3</th>\n",
       "      <td>food stock one empty... please, panic, enough ...</td>\n",
       "      <td>Positive</td>\n",
       "    </tr>\n",
       "    <tr>\n",
       "      <th>4</th>\n",
       "      <td>me, ready go supermarket  outbreak. i'm parano...</td>\n",
       "      <td>Extremely Negative</td>\n",
       "    </tr>\n",
       "  </tbody>\n",
       "</table>\n",
       "</div>"
      ],
      "text/plain": [
       "                                       OriginalTweet           Sentiment\n",
       "0                                                NaN             Neutral\n",
       "1  advice talk neighbours family exchange phone n...            Positive\n",
       "2  coronavirus australia: woolworths give elderly...            Positive\n",
       "3  food stock one empty... please, panic, enough ...            Positive\n",
       "4  me, ready go supermarket  outbreak. i'm parano...  Extremely Negative"
      ]
     },
     "execution_count": 13,
     "metadata": {},
     "output_type": "execute_result"
    }
   ],
   "source": [
    "import unicodedata\n",
    "def remove_nonascii(text):\n",
    "    text = unicodedata.normalize('NFKD', text).encode('ascii', 'ignore').decode('utf-8', 'ignore')\n",
    "    return text\n",
    "df['OriginalTweet'] = df['OriginalTweet'].apply(remove_nonascii)\n",
    "df.head()"
   ]
  },
  {
   "cell_type": "code",
   "execution_count": 14,
   "metadata": {},
   "outputs": [
    {
     "data": {
      "text/html": [
       "<div>\n",
       "<style scoped>\n",
       "    .dataframe tbody tr th:only-of-type {\n",
       "        vertical-align: middle;\n",
       "    }\n",
       "\n",
       "    .dataframe tbody tr th {\n",
       "        vertical-align: top;\n",
       "    }\n",
       "\n",
       "    .dataframe thead th {\n",
       "        text-align: right;\n",
       "    }\n",
       "</style>\n",
       "<table border=\"1\" class=\"dataframe\">\n",
       "  <thead>\n",
       "    <tr style=\"text-align: right;\">\n",
       "      <th></th>\n",
       "      <th>OriginalTweet</th>\n",
       "      <th>Sentiment</th>\n",
       "    </tr>\n",
       "  </thead>\n",
       "  <tbody>\n",
       "    <tr>\n",
       "      <th>0</th>\n",
       "      <td>advice talk neighbours family exchange phone n...</td>\n",
       "      <td>Positive</td>\n",
       "    </tr>\n",
       "    <tr>\n",
       "      <th>1</th>\n",
       "      <td>coronavirus australia: woolworths give elderly...</td>\n",
       "      <td>Positive</td>\n",
       "    </tr>\n",
       "    <tr>\n",
       "      <th>2</th>\n",
       "      <td>food stock one empty... please, panic, enough ...</td>\n",
       "      <td>Positive</td>\n",
       "    </tr>\n",
       "    <tr>\n",
       "      <th>3</th>\n",
       "      <td>me, ready go supermarket  outbreak. i'm parano...</td>\n",
       "      <td>Extremely Negative</td>\n",
       "    </tr>\n",
       "    <tr>\n",
       "      <th>4</th>\n",
       "      <td>news regionas first confirmed covid-19 case ca...</td>\n",
       "      <td>Positive</td>\n",
       "    </tr>\n",
       "  </tbody>\n",
       "</table>\n",
       "</div>"
      ],
      "text/plain": [
       "                                       OriginalTweet           Sentiment\n",
       "0  advice talk neighbours family exchange phone n...            Positive\n",
       "1  coronavirus australia: woolworths give elderly...            Positive\n",
       "2  food stock one empty... please, panic, enough ...            Positive\n",
       "3  me, ready go supermarket  outbreak. i'm parano...  Extremely Negative\n",
       "4  news regionas first confirmed covid-19 case ca...            Positive"
      ]
     },
     "execution_count": 14,
     "metadata": {},
     "output_type": "execute_result"
    }
   ],
   "source": [
    "df = df[df['OriginalTweet'] != 'NaN']\n",
    "df = df.reset_index(drop = True)\n",
    "df.head()"
   ]
  },
  {
   "cell_type": "markdown",
   "metadata": {},
   "source": [
    "## Tokenization and Normalization "
   ]
  },
  {
   "cell_type": "markdown",
   "metadata": {},
   "source": [
    "Tokenization is a foundational step in text preprocessing. By breaking down tweets into individual tokens (words or terms), we can analyze the frequency, distribution, and co-occurrence of words. This not only aids in understanding the dataset but also prepares the data for vectorization techniques like TF-IDF or word embeddings, which are commonly used in machine learning models for text data. \n",
    "\n",
    "Lemmatization is an advanced form of normalization that can be particularly useful in text analysis. By reducing words to their root form, we can group together different inflections or derivations of a word, ensuring that our analysis captures the underlying meaning and not just the specific form of a word. This step can enhance the consistency and robustness of our analysis."
   ]
  },
  {
   "cell_type": "code",
   "execution_count": 15,
   "metadata": {},
   "outputs": [
    {
     "data": {
      "text/plain": [
       "0    [advice, talk, neighbours, family, exchange, p...\n",
       "1    [coronavirus, australia:, woolworths, give, el...\n",
       "2    [food, stock, one, empty..., please,, panic,, ...\n",
       "3    [me,, ready, go, supermarket, outbreak., i'm, ...\n",
       "4    [news, regionas, first, confirmed, covid-19, c...\n",
       "Name: OriginalTweet, dtype: object"
      ]
     },
     "execution_count": 15,
     "metadata": {},
     "output_type": "execute_result"
    }
   ],
   "source": [
    "import nltk\n",
    "from nltk import word_tokenize\n",
    "tokenizer = nltk.tokenize.WhitespaceTokenizer()\n",
    "def tokenize(text):\n",
    "    return tokenizer.tokenize(text)\n",
    "\n",
    "df['OriginalTweet'] = df['OriginalTweet'].apply(tokenize)\n",
    "df['OriginalTweet'].head()"
   ]
  },
  {
   "cell_type": "code",
   "execution_count": 16,
   "metadata": {},
   "outputs": [
    {
     "data": {
      "text/html": [
       "<div>\n",
       "<style scoped>\n",
       "    .dataframe tbody tr th:only-of-type {\n",
       "        vertical-align: middle;\n",
       "    }\n",
       "\n",
       "    .dataframe tbody tr th {\n",
       "        vertical-align: top;\n",
       "    }\n",
       "\n",
       "    .dataframe thead th {\n",
       "        text-align: right;\n",
       "    }\n",
       "</style>\n",
       "<table border=\"1\" class=\"dataframe\">\n",
       "  <thead>\n",
       "    <tr style=\"text-align: right;\">\n",
       "      <th></th>\n",
       "      <th>OriginalTweet</th>\n",
       "      <th>Sentiment</th>\n",
       "    </tr>\n",
       "  </thead>\n",
       "  <tbody>\n",
       "    <tr>\n",
       "      <th>0</th>\n",
       "      <td>[advice, talk, neighbour, family, exchange, ph...</td>\n",
       "      <td>Positive</td>\n",
       "    </tr>\n",
       "    <tr>\n",
       "      <th>1</th>\n",
       "      <td>[coronavirus, australia:, woolworth, give, eld...</td>\n",
       "      <td>Positive</td>\n",
       "    </tr>\n",
       "    <tr>\n",
       "      <th>2</th>\n",
       "      <td>[food, stock, one, empty..., please,, panic,, ...</td>\n",
       "      <td>Positive</td>\n",
       "    </tr>\n",
       "    <tr>\n",
       "      <th>3</th>\n",
       "      <td>[me,, ready, go, supermarket, outbreak., i'm, ...</td>\n",
       "      <td>Extremely Negative</td>\n",
       "    </tr>\n",
       "    <tr>\n",
       "      <th>4</th>\n",
       "      <td>[news, regionas, first, confirmed, covid-19, c...</td>\n",
       "      <td>Positive</td>\n",
       "    </tr>\n",
       "  </tbody>\n",
       "</table>\n",
       "</div>"
      ],
      "text/plain": [
       "                                       OriginalTweet           Sentiment\n",
       "0  [advice, talk, neighbour, family, exchange, ph...            Positive\n",
       "1  [coronavirus, australia:, woolworth, give, eld...            Positive\n",
       "2  [food, stock, one, empty..., please,, panic,, ...            Positive\n",
       "3  [me,, ready, go, supermarket, outbreak., i'm, ...  Extremely Negative\n",
       "4  [news, regionas, first, confirmed, covid-19, c...            Positive"
      ]
     },
     "execution_count": 16,
     "metadata": {},
     "output_type": "execute_result"
    }
   ],
   "source": [
    "tokenizer = nltk.tokenize.WhitespaceTokenizer()\n",
    "lemmatizer = nltk.stem.WordNetLemmatizer()\n",
    "\n",
    "def lemmatize(text):\n",
    "    return [lemmatizer.lemmatize(w) for w in text]\n",
    "\n",
    "df['OriginalTweet'] = df['OriginalTweet'].apply(lemmatize)\n",
    "df.head()"
   ]
  },
  {
   "cell_type": "markdown",
   "metadata": {},
   "source": [
    "Frequency analysis of tokens provides insights into the most commonly mentioned terms in the tweets. Understanding the most frequent terms can give us a glimpse into the main topics or concerns expressed in the dataset and help with dimensioanlity reduction further down the line. "
   ]
  },
  {
   "cell_type": "code",
   "execution_count": 17,
   "metadata": {},
   "outputs": [],
   "source": [
    "import itertools\n",
    "import collections\n",
    "all_tweets = list(df[\"OriginalTweet\"])\n",
    "all_tokens = list(itertools.chain(*all_tweets))\n",
    "token_counts = collections.Counter(all_tokens)"
   ]
  },
  {
   "cell_type": "code",
   "execution_count": 18,
   "metadata": {},
   "outputs": [
    {
     "data": {
      "text/plain": [
       "[('price', 7321),\n",
       " ('store', 6517),\n",
       " ('grocery', 6274),\n",
       " ('supermarket', 6056),\n",
       " ('food', 6033),\n",
       " ('covid-19', 5286),\n",
       " ('people', 5002),\n",
       " ('consumer', 4611),\n",
       " ('&amp;', 3540),\n",
       " ('19', 3411)]"
      ]
     },
     "execution_count": 18,
     "metadata": {},
     "output_type": "execute_result"
    }
   ],
   "source": [
    "token_counts.most_common(10)"
   ]
  },
  {
   "cell_type": "code",
   "execution_count": 19,
   "metadata": {},
   "outputs": [
    {
     "data": {
      "text/html": [
       "<div>\n",
       "<style scoped>\n",
       "    .dataframe tbody tr th:only-of-type {\n",
       "        vertical-align: middle;\n",
       "    }\n",
       "\n",
       "    .dataframe tbody tr th {\n",
       "        vertical-align: top;\n",
       "    }\n",
       "\n",
       "    .dataframe thead th {\n",
       "        text-align: right;\n",
       "    }\n",
       "</style>\n",
       "<table border=\"1\" class=\"dataframe\">\n",
       "  <thead>\n",
       "    <tr style=\"text-align: right;\">\n",
       "      <th></th>\n",
       "      <th>Token</th>\n",
       "      <th>Count</th>\n",
       "    </tr>\n",
       "  </thead>\n",
       "  <tbody>\n",
       "    <tr>\n",
       "      <th>0</th>\n",
       "      <td>price</td>\n",
       "      <td>7321</td>\n",
       "    </tr>\n",
       "    <tr>\n",
       "      <th>1</th>\n",
       "      <td>store</td>\n",
       "      <td>6517</td>\n",
       "    </tr>\n",
       "    <tr>\n",
       "      <th>2</th>\n",
       "      <td>grocery</td>\n",
       "      <td>6274</td>\n",
       "    </tr>\n",
       "    <tr>\n",
       "      <th>3</th>\n",
       "      <td>supermarket</td>\n",
       "      <td>6056</td>\n",
       "    </tr>\n",
       "    <tr>\n",
       "      <th>4</th>\n",
       "      <td>food</td>\n",
       "      <td>6033</td>\n",
       "    </tr>\n",
       "  </tbody>\n",
       "</table>\n",
       "</div>"
      ],
      "text/plain": [
       "         Token  Count\n",
       "0        price   7321\n",
       "1        store   6517\n",
       "2      grocery   6274\n",
       "3  supermarket   6056\n",
       "4         food   6033"
      ]
     },
     "execution_count": 19,
     "metadata": {},
     "output_type": "execute_result"
    }
   ],
   "source": [
    "df_token_counts = pd.DataFrame(token_counts.most_common(20), columns=['Token','Count'])\n",
    "df_token_counts.head()"
   ]
  },
  {
   "cell_type": "code",
   "execution_count": 20,
   "metadata": {},
   "outputs": [
    {
     "data": {
      "image/png": "[encoded data removed]",
      "text/plain": [
       "<Figure size 1200x800 with 1 Axes>"
      ]
     },
     "metadata": {},
     "output_type": "display_data"
    }
   ],
   "source": [
    "import matplotlib.pyplot as plt\n",
    "plt.rcParams[\"figure.figsize\"] = (12,8)\n",
    "df_token_counts.sort_values(by = 'Count').plot.bar(x='Token', y='Count')\n",
    "plt.title('Most Used Words')\n",
    "plt.show()"
   ]
  },
  {
   "cell_type": "code",
   "execution_count": 21,
   "metadata": {},
   "outputs": [
    {
     "name": "stdout",
     "output_type": "stream",
     "text": [
      "16.85350262697023\n",
      "11.93713469281725\n",
      "16.761093182734975\n",
      "19.152626811594203\n",
      "19.20689655172414\n"
     ]
    }
   ],
   "source": [
    "df['word_count'] = df['OriginalTweet'].apply(lambda x: len(str(x).split()))\n",
    "\n",
    "print(df[df['Sentiment']==\"Positive\"]['word_count'].mean()) #Positive tweets\n",
    "print(df[df['Sentiment']==\"Neutral\"]['word_count'].mean()) #Neutral tweets\n",
    "\n",
    "print(df[df['Sentiment']==\"Negative\"]['word_count'].mean()) #Negative tweets\n",
    "print(df[df['Sentiment']==\"Extremely Positive\"]['word_count'].mean()) #Extremely Positive tweets\n",
    "print(df[df['Sentiment']==\"Extremely Negative\"]['word_count'].mean()) #Extremely Negative tweets"
   ]
  },
  {
   "cell_type": "code",
   "execution_count": 22,
   "metadata": {},
   "outputs": [
    {
     "data": {
      "image/png": "[encoded data removed]",
      "text/plain": [
       "<Figure size 1700x500 with 5 Axes>"
      ]
     },
     "metadata": {},
     "output_type": "display_data"
    }
   ],
   "source": [
    "# PLOTTING WORD-COUNT\n",
    "import matplotlib.pyplot as plt\n",
    "fig,(ax1,ax2,ax3, ax4, ax5)=plt.subplots(1,5,figsize=(17,5))\n",
    "\n",
    "train_words=df[df['Sentiment']=='Positive']['word_count']\n",
    "ax1.hist(train_words,color='yellowgreen')\n",
    "ax1.set_title('Positive tweets')\n",
    "\n",
    "train_words=df[df['Sentiment']=='Neutral']['word_count']\n",
    "ax2.hist(train_words,color='lightgray')\n",
    "ax2.set_title('Neutral tweets')\n",
    "\n",
    "\n",
    "train_words=df[df['Sentiment']=='Negative']['word_count']\n",
    "ax3.hist(train_words,color='firebrick')\n",
    "ax3.set_title('Negative tweets')\n",
    "\n",
    "train_words=df[df['Sentiment']=='Extremely Positive']['word_count']\n",
    "ax4.hist(train_words,color='lime')\n",
    "ax4.set_title('Extremely Positive tweets')\n",
    "\n",
    "train_words=df[df['Sentiment']=='Extremely Negative']['word_count']\n",
    "ax5.hist(train_words,color='red')\n",
    "ax5.set_title('Extremely Negative tweets')\n",
    "\n",
    "\n",
    "fig.suptitle('Words per tweet')\n",
    "plt.show()"
   ]
  },
  {
   "cell_type": "markdown",
   "metadata": {},
   "source": [
    "It seems the \"Extremely Positive\" and \"Extremely Negative\" tweets tend to be longer on average compared to other sentiments. This could indicate that when users have strong feelings (either positive or negative), they use more words to express themselves."
   ]
  },
  {
   "cell_type": "code",
   "execution_count": 25,
   "metadata": {},
   "outputs": [
    {
     "data": {
      "text/plain": [
       "[(0,\n",
       "  '0.015*\"hand\" + 0.013*\"food\" + 0.009*\"sanitizer\" + 0.009*\"people\" + 0.007*\"stock\"'),\n",
       " (1,\n",
       "  '0.037*\"price\" + 0.012*\"covid-19\" + 0.010*\"consumer\" + 0.009*\"oil\" + 0.007*\"demand\"'),\n",
       " (2,\n",
       "  '0.015*\"supermarket\" + 0.013*\"food\" + 0.010*\"store\" + 0.010*\"19\" + 0.009*\"worker\"'),\n",
       " (3,\n",
       "  '0.016*\"store\" + 0.016*\"shopping\" + 0.014*\"online\" + 0.014*\"grocery\" + 0.009*\"covid-19\"'),\n",
       " (4,\n",
       "  '0.018*\"grocery\" + 0.015*\"store\" + 0.012*\"food\" + 0.010*\"supermarket\" + 0.008*\"like\"')]"
      ]
     },
     "execution_count": 25,
     "metadata": {},
     "output_type": "execute_result"
    }
   ],
   "source": [
    "from gensim import corpora\n",
    "from gensim.models import LdaModel\n",
    "\n",
    "# Preprocessing for topic modeling\n",
    "subset_df = df.sample(frac=0.3, random_state=42)\n",
    "dictionary = corpora.Dictionary(subset_df['OriginalTweet'])\n",
    "corpus = [dictionary.doc2bow(text) for text in subset_df['OriginalTweet']]\n",
    "\n",
    "# LDA model\n",
    "num_topics = 5\n",
    "lda_model = LdaModel(corpus, num_topics=num_topics, id2word=dictionary, passes=5)\n",
    "topics = lda_model.print_topics(num_words=5)\n",
    "topics"
   ]
  },
  {
   "cell_type": "markdown",
   "metadata": {},
   "source": [
    "* Consumer Behavior and COVID-19: Words like \"consumer\", \"covid-19\", and \"online\" suggest a topic related to consumer reactions or behaviors due to COVID-19.\n",
    "* Economic Impacts: Words like \"prices\", \"food\", and \"oil\" indicate concerns or discussions about the economic impacts, especially related to essential goods.\n",
    "* Queries and Concerns: Symbols and words like \"?\", \"cure\", and \"???\" suggest this topic might be about queries, concerns, or looking for answers.\n",
    "* Grocery Shopping: Words like \"grocery\", \"store\", and \"supermarket\" are about the shopping experience in physical stores during the pandemic.\n",
    "* Online Shopping and Hygiene: Words like \"hand\", \"shopping\", \"online\", and \"sanitizer\" hint at a topic concerning online shopping and hygiene practices."
   ]
  },
  {
   "cell_type": "code",
   "execution_count": 40,
   "metadata": {},
   "outputs": [],
   "source": [
    "from sklearn.model_selection import train_test_split\n",
    "from sklearn import svm\n",
    "from sklearn.metrics import accuracy_score\n",
    "from sklearn.feature_extraction.text import TfidfVectorizer"
   ]
  },
  {
   "cell_type": "code",
   "execution_count": 41,
   "metadata": {},
   "outputs": [],
   "source": [
    "# Train - test split\n",
    "X_train, X_test, y_train, y_test = train_test_split(df[\"OriginalTweet\"].apply(lambda x: ', '.join(x)),df[\"Sentiment\"],test_size=0.1,random_state=42)\n",
    "# Converting text to numbers using TFIDF\n",
    "tfidf_vectorizer = TfidfVectorizer(use_idf=True)\n",
    "X_train_vectors_tfidf = tfidf_vectorizer.fit_transform(X_train) \n",
    "X_test_vectors_tfidf = tfidf_vectorizer.transform(X_test)"
   ]
  },
  {
   "cell_type": "markdown",
   "metadata": {},
   "source": [
    "Support Vector Machines (SVM) are powerful classifiers that work well for both binary and multiclass classification problems, especially when dealing with high-dimensional data. Given the nature of text data (often high-dimensional due to the vast vocabulary), SVM is a suitable choice for sentiment classification. The choice of the 'ovo' (one-vs-one) strategy indicates that for each pair of classes, a binary classifier is trained. The class with the highest votes is then chosen as the final prediction. Evaluating the model's accuracy on the test data provides a quantitative measure of how well the model generalizes to unseen data."
   ]
  },
  {
   "cell_type": "code",
   "execution_count": 42,
   "metadata": {},
   "outputs": [
    {
     "data": {
      "text/plain": [
       "0.6037919299951385"
      ]
     },
     "execution_count": 42,
     "metadata": {},
     "output_type": "execute_result"
    }
   ],
   "source": [
    "# Classfication using Naive Bayer Classifier\n",
    "from sklearn import svm\n",
    "from sklearn.metrics import accuracy_score\n",
    "# Multiclass classification\n",
    "clf = svm.SVC(decision_function_shape='ovo')\n",
    "clf.fit(X_train_vectors_tfidf, y_train)  \n",
    "\n",
    "#Predict y value for test dataset\n",
    "y_predict = clf.predict(X_test_vectors_tfidf)\n",
    "\n",
    "accuracy_score(y_test, y_predict)"
   ]
  },
  {
   "cell_type": "code",
   "execution_count": 43,
   "metadata": {},
   "outputs": [
    {
     "name": "stdout",
     "output_type": "stream",
     "text": [
      "Evaluation Metrics for SVM:\n",
      "                    precision    recall  f1-score   support\n",
      "\n",
      "Extremely Negative       0.75      0.42      0.54       511\n",
      "Extremely Positive       0.81      0.47      0.59       701\n",
      "          Negative       0.54      0.62      0.57       982\n",
      "           Neutral       0.66      0.69      0.67       731\n",
      "          Positive       0.55      0.70      0.61      1189\n",
      "\n",
      "          accuracy                           0.60      4114\n",
      "         macro avg       0.66      0.58      0.60      4114\n",
      "      weighted avg       0.63      0.60      0.60      4114\n",
      "\n"
     ]
    },
    {
     "data": {
      "image/png": "[encoded data removed]",
      "text/plain": [
       "<Figure size 1200x800 with 2 Axes>"
      ]
     },
     "metadata": {},
     "output_type": "display_data"
    }
   ],
   "source": [
    "from sklearn.metrics import classification_report, confusion_matrix\n",
    "import seaborn as sns\n",
    "\n",
    "# Evaluation for SVM\n",
    "print(\"Evaluation Metrics for SVM:\")\n",
    "print(classification_report(y_test, y_predict))\n",
    "\n",
    "# Confusion Matrix for SVM\n",
    "cm = confusion_matrix(y_test, y_predict)\n",
    "sns.heatmap(cm, annot=True, fmt='g', cmap='Blues')\n",
    "plt.xlabel('Predicted labels')\n",
    "plt.ylabel('True labels')\n",
    "plt.title('Confusion Matrix for SVM')\n",
    "plt.show()\n"
   ]
  },
  {
   "cell_type": "markdown",
   "metadata": {},
   "source": [
    "The SVM classifier demonstrated an overall accuracy of 60% in sentiment classification of tweets related to the coronavirus. While the model showed a relatively balanced performance for the \"Neutral\" sentiment with an F1-score of 67%, it faced challenges in correctly identifying \"Extremely Negative\" tweets, achieving only a 42% recall. The \"Positive\" sentiment saw a commendable recall of 70%, albeit with room for improvement in precision. Across sentiments, there exists a discernible gap between precision and recall, highlighting the need for model refinement. Tweaking hyperparameters or exploring different SVM kernels might offer avenues for enhancement."
   ]
  },
  {
   "cell_type": "markdown",
   "metadata": {},
   "source": [
    "# Compare to Other Classifiers "
   ]
  },
  {
   "cell_type": "code",
   "execution_count": 44,
   "metadata": {},
   "outputs": [
    {
     "name": "stdout",
     "output_type": "stream",
     "text": [
      "Evaluation Metrics for Random Forest:\n",
      "                    precision    recall  f1-score   support\n",
      "\n",
      "Extremely Negative       0.65      0.38      0.48       511\n",
      "Extremely Positive       0.66      0.35      0.46       701\n",
      "          Negative       0.48      0.50      0.49       982\n",
      "           Neutral       0.55      0.75      0.63       731\n",
      "          Positive       0.47      0.57      0.52      1189\n",
      "\n",
      "          accuracy                           0.52      4114\n",
      "         macro avg       0.56      0.51      0.52      4114\n",
      "      weighted avg       0.54      0.52      0.52      4114\n",
      "\n",
      "Evaluation Metrics for Logistic Regression:\n",
      "                    precision    recall  f1-score   support\n",
      "\n",
      "Extremely Negative       0.66      0.46      0.54       511\n",
      "Extremely Positive       0.68      0.50      0.58       701\n",
      "          Negative       0.53      0.55      0.54       982\n",
      "           Neutral       0.62      0.70      0.66       731\n",
      "          Positive       0.53      0.62      0.57      1189\n",
      "\n",
      "          accuracy                           0.58      4114\n",
      "         macro avg       0.60      0.57      0.58      4114\n",
      "      weighted avg       0.59      0.58      0.58      4114\n",
      "\n"
     ]
    }
   ],
   "source": [
    "from sklearn.ensemble import RandomForestClassifier\n",
    "from sklearn.linear_model import LogisticRegression\n",
    "\n",
    "# Random Forest Classifier\n",
    "rf_clf = RandomForestClassifier()\n",
    "rf_clf.fit(X_train_vectors_tfidf, y_train)\n",
    "rf_predict = rf_clf.predict(X_test_vectors_tfidf)\n",
    "print(\"Evaluation Metrics for Random Forest:\")\n",
    "print(classification_report(y_test, rf_predict))\n",
    "\n",
    "# Logistic Regression Classifier\n",
    "lr_clf = LogisticRegression(max_iter=1000)\n",
    "lr_clf.fit(X_train_vectors_tfidf, y_train)\n",
    "lr_predict = lr_clf.predict(X_test_vectors_tfidf)\n",
    "print(\"Evaluation Metrics for Logistic Regression:\")\n",
    "print(classification_report(y_test, lr_predict))\n"
   ]
  },
  {
   "cell_type": "markdown",
   "metadata": {},
   "source": [
    "\n",
    "Logistic Regression, Random Forest, and SVM are all powerful classifiers, each with its distinct strengths. Logistic Regression is a simple linear model that's interpretable and suitable for binary and multiclass classification tasks, especially when a probabilistic outcome is desired. Random Forest, on the other hand, is an ensemble method that builds multiple decision trees and merges their outputs. It's versatile, handles high dimensionality well, and can provide insights into feature importance. SVM, a margin-based classifier, excels in high-dimensional spaces and can handle non-linear decision boundaries using kernel tricks.\n",
    "\n",
    "Analyzing the provided evaluation metrics, Random Forest yields an overall accuracy of 52% with the \"Neutral\" sentiment achieving the highest F1-score of 63%. Logistic Regression shows an improved accuracy of 58%, with \"Neutral\" and \"Extremely Positive\" sentiments having F1-scores of 66% and 58%, respectively. Compared to the SVM's accuracy of 60%, both Random Forest and Logistic Regression models lag slightly behind, though the differences are marginal.\n",
    "\n",
    "Given the results, SVM offers the best overall performance. However, the choice between these models should also consider factors like interpretability, computational efficiency, and ease of deployment. While SVM has the edge in raw accuracy, Logistic Regression's simplicity and interpretability might make it more suitable for applications where model insights are crucial. It's recommended to further tune and validate each model using additional datasets to ascertain the best choice for the specific use case."
   ]
  }
 ],
 "metadata": {
  "kernelspec": {
   "display_name": "base",
   "language": "python",
   "name": "python3"
  },
  "language_info": {
   "codemirror_mode": {
    "name": "ipython",
    "version": 3
   },
   "file_extension": ".py",
   "mimetype": "text/x-python",
   "name": "python",
   "nbconvert_exporter": "python",
   "pygments_lexer": "ipython3",
   "version": "3.11.4"
  },
  "orig_nbformat": 4
 },
 "nbformat": 4,
 "nbformat_minor": 2
}
